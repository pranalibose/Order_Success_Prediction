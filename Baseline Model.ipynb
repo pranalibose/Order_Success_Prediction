{
 "cells": [
  {
   "cell_type": "markdown",
   "id": "12b8f199",
   "metadata": {},
   "source": [
    "# <u>Base Model</u>\n",
    "In this notebook we will build a baseline model. We will build a xgboost model and evaluate the performance. Later, we will work on improving the model performance.  "
   ]
  },
  {
   "cell_type": "code",
   "execution_count": 27,
   "id": "4eb440df",
   "metadata": {},
   "outputs": [],
   "source": [
    "# !pip install sklearn\n",
    "# !pip install matplotlib\n",
    "# !pip install seaborn\n",
    "# !pip install openpyxl\n",
    "# !pip install imblearn\n",
    "# !pip insatll xgboost\n",
    "# !pip install joblib"
   ]
  },
  {
   "cell_type": "code",
   "execution_count": 28,
   "id": "89c73c8a",
   "metadata": {},
   "outputs": [],
   "source": [
    "import pandas as pd\n",
    "import numpy as np\n",
    "import warnings\n",
    "import matplotlib.pyplot as plt\n",
    "import seaborn as sns\n",
    "from sklearn.preprocessing import LabelEncoder\n",
    "from sklearn.model_selection import train_test_split\n",
    "\n",
    "warnings.simplefilter('ignore')"
   ]
  },
  {
   "cell_type": "code",
   "execution_count": 29,
   "id": "5805744f",
   "metadata": {},
   "outputs": [],
   "source": [
    "df = pd.read_excel('orders_data.xlsx')"
   ]
  },
  {
   "cell_type": "code",
   "execution_count": 30,
   "id": "0555bb13",
   "metadata": {},
   "outputs": [
    {
     "data": {
      "text/html": [
       "<div>\n",
       "<style scoped>\n",
       "    .dataframe tbody tr th:only-of-type {\n",
       "        vertical-align: middle;\n",
       "    }\n",
       "\n",
       "    .dataframe tbody tr th {\n",
       "        vertical-align: top;\n",
       "    }\n",
       "\n",
       "    .dataframe thead th {\n",
       "        text-align: right;\n",
       "    }\n",
       "</style>\n",
       "<table border=\"1\" class=\"dataframe\">\n",
       "  <thead>\n",
       "    <tr style=\"text-align: right;\">\n",
       "      <th></th>\n",
       "      <th>order_no</th>\n",
       "      <th>order_date</th>\n",
       "      <th>buyer</th>\n",
       "      <th>ship_city</th>\n",
       "      <th>ship_state</th>\n",
       "      <th>sku</th>\n",
       "      <th>description</th>\n",
       "      <th>quantity</th>\n",
       "      <th>item_total</th>\n",
       "      <th>shipping_fee</th>\n",
       "      <th>cod</th>\n",
       "      <th>order_status</th>\n",
       "    </tr>\n",
       "  </thead>\n",
       "  <tbody>\n",
       "    <tr>\n",
       "      <th>0</th>\n",
       "      <td>405-9763961-5211537</td>\n",
       "      <td>Sun, 18 Jul, 2021, 10:38 pm IST</td>\n",
       "      <td>Mr.</td>\n",
       "      <td>CHANDIGARH,</td>\n",
       "      <td>CHANDIGARH</td>\n",
       "      <td>SKU:  2X-3C0F-KNJE</td>\n",
       "      <td>100% Leather Elephant Shaped Piggy Coin Bank |...</td>\n",
       "      <td>1</td>\n",
       "      <td>₹449.00</td>\n",
       "      <td>NaN</td>\n",
       "      <td>NaN</td>\n",
       "      <td>Delivered to buyer</td>\n",
       "    </tr>\n",
       "    <tr>\n",
       "      <th>1</th>\n",
       "      <td>404-3964908-7850720</td>\n",
       "      <td>Tue, 19 Oct, 2021, 6:05 pm IST</td>\n",
       "      <td>Minam</td>\n",
       "      <td>PASIGHAT,</td>\n",
       "      <td>ARUNACHAL PRADESH</td>\n",
       "      <td>SKU:  DN-0WDX-VYOT</td>\n",
       "      <td>Women's Set of 5 Multicolor Pure Leather Singl...</td>\n",
       "      <td>1</td>\n",
       "      <td>₹449.00</td>\n",
       "      <td>₹60.18</td>\n",
       "      <td>NaN</td>\n",
       "      <td>Delivered to buyer</td>\n",
       "    </tr>\n",
       "    <tr>\n",
       "      <th>2</th>\n",
       "      <td>171-8103182-4289117</td>\n",
       "      <td>Sun, 28 Nov, 2021, 10:20 pm IST</td>\n",
       "      <td>yatipertin</td>\n",
       "      <td>PASIGHAT,</td>\n",
       "      <td>ARUNACHAL PRADESH</td>\n",
       "      <td>SKU:  DN-0WDX-VYOT</td>\n",
       "      <td>Women's Set of 5 Multicolor Pure Leather Singl...</td>\n",
       "      <td>1</td>\n",
       "      <td>₹449.00</td>\n",
       "      <td>₹60.18</td>\n",
       "      <td>NaN</td>\n",
       "      <td>Delivered to buyer</td>\n",
       "    </tr>\n",
       "  </tbody>\n",
       "</table>\n",
       "</div>"
      ],
      "text/plain": [
       "              order_no                       order_date       buyer  \\\n",
       "0  405-9763961-5211537  Sun, 18 Jul, 2021, 10:38 pm IST         Mr.   \n",
       "1  404-3964908-7850720   Tue, 19 Oct, 2021, 6:05 pm IST       Minam   \n",
       "2  171-8103182-4289117  Sun, 28 Nov, 2021, 10:20 pm IST  yatipertin   \n",
       "\n",
       "     ship_city         ship_state                 sku  \\\n",
       "0  CHANDIGARH,         CHANDIGARH  SKU:  2X-3C0F-KNJE   \n",
       "1    PASIGHAT,  ARUNACHAL PRADESH  SKU:  DN-0WDX-VYOT   \n",
       "2    PASIGHAT,  ARUNACHAL PRADESH  SKU:  DN-0WDX-VYOT   \n",
       "\n",
       "                                         description  quantity item_total  \\\n",
       "0  100% Leather Elephant Shaped Piggy Coin Bank |...         1    ₹449.00   \n",
       "1  Women's Set of 5 Multicolor Pure Leather Singl...         1    ₹449.00   \n",
       "2  Women's Set of 5 Multicolor Pure Leather Singl...         1    ₹449.00   \n",
       "\n",
       "  shipping_fee  cod        order_status  \n",
       "0          NaN  NaN  Delivered to buyer  \n",
       "1       ₹60.18  NaN  Delivered to buyer  \n",
       "2       ₹60.18  NaN  Delivered to buyer  "
      ]
     },
     "execution_count": 30,
     "metadata": {},
     "output_type": "execute_result"
    }
   ],
   "source": [
    "df.head(3)"
   ]
  },
  {
   "cell_type": "code",
   "execution_count": 31,
   "id": "d2687c44",
   "metadata": {},
   "outputs": [
    {
     "name": "stdout",
     "output_type": "stream",
     "text": [
      "<class 'pandas.core.frame.DataFrame'>\n",
      "RangeIndex: 171 entries, 0 to 170\n",
      "Data columns (total 12 columns):\n",
      " #   Column        Non-Null Count  Dtype \n",
      "---  ------        --------------  ----- \n",
      " 0   order_no      171 non-null    object\n",
      " 1   order_date    171 non-null    object\n",
      " 2   buyer         171 non-null    object\n",
      " 3   ship_city     171 non-null    object\n",
      " 4   ship_state    171 non-null    object\n",
      " 5   sku           171 non-null    object\n",
      " 6   description   171 non-null    object\n",
      " 7   quantity      171 non-null    int64 \n",
      " 8   item_total    153 non-null    object\n",
      " 9   shipping_fee  145 non-null    object\n",
      " 10  cod           47 non-null     object\n",
      " 11  order_status  171 non-null    object\n",
      "dtypes: int64(1), object(11)\n",
      "memory usage: 16.2+ KB\n"
     ]
    }
   ],
   "source": [
    "df.info()"
   ]
  },
  {
   "cell_type": "markdown",
   "id": "c0e5564a",
   "metadata": {},
   "source": [
    "### Handle Missing Data"
   ]
  },
  {
   "cell_type": "code",
   "execution_count": 32,
   "id": "8f12feb4",
   "metadata": {},
   "outputs": [],
   "source": [
    "df['cod'].fillna('Online', inplace=True)\n",
    "df['shipping_fee'].fillna(df['shipping_fee'].mode()[0], inplace=True)\n",
    "df['item_total'].fillna(df['item_total'].mode()[0], inplace=True)"
   ]
  },
  {
   "cell_type": "code",
   "execution_count": 33,
   "id": "99d1d624",
   "metadata": {},
   "outputs": [],
   "source": [
    "def drop(df, *features):\n",
    "    ''' To drop the features from a dataframe'''\n",
    "    for i in features:\n",
    "        df.drop(i, axis=1, inplace=True)"
   ]
  },
  {
   "cell_type": "markdown",
   "id": "69511a93",
   "metadata": {},
   "source": [
    "### Cleaning Data"
   ]
  },
  {
   "cell_type": "code",
   "execution_count": 34,
   "id": "2cbf9902",
   "metadata": {},
   "outputs": [],
   "source": [
    "# remove rupee symbol from amount features\n",
    "amounts = ['item_total', 'shipping_fee']\n",
    "for i in amounts:\n",
    "    df[i] = df[i].apply(lambda x: x.replace(',', ''))        # remove the commas in amounts greater than 1000\n",
    "    df[i] = df[i].apply(lambda x: x[1:])"
   ]
  },
  {
   "cell_type": "code",
   "execution_count": 35,
   "id": "d5c4705b",
   "metadata": {},
   "outputs": [],
   "source": [
    "# removing comma from city values\n",
    "df['ship_city'] = df['ship_city'].apply(lambda x: x.replace(',', ''))\n",
    "df['ship_state'] = df['ship_state'].apply(lambda x: x.replace(',', ''))"
   ]
  },
  {
   "cell_type": "code",
   "execution_count": 36,
   "id": "0c30dc1e",
   "metadata": {},
   "outputs": [],
   "source": [
    "# extracting id from sku\n",
    "df['sku'] = df['sku'].apply(lambda x: x[4:])"
   ]
  },
  {
   "cell_type": "markdown",
   "id": "f3879680",
   "metadata": {},
   "source": [
    "### Format Date"
   ]
  },
  {
   "cell_type": "code",
   "execution_count": 37,
   "id": "07e472e2",
   "metadata": {},
   "outputs": [],
   "source": [
    "# extract year, month, day and time from date feature\n",
    "df['year'] = pd.DatetimeIndex(df['order_date']).year\n",
    "df['month'] = pd.DatetimeIndex(df['order_date']).month\n",
    "df['day'] = pd.DatetimeIndex(df['order_date']).dayofweek\n",
    "df['time'] = pd.DatetimeIndex(df['order_date']).time\n",
    "\n",
    "df['time'] = df['time'].apply(lambda x: (str(x))[:2])"
   ]
  },
  {
   "cell_type": "code",
   "execution_count": 38,
   "id": "3014beeb",
   "metadata": {},
   "outputs": [],
   "source": [
    "# dropping order_no, order_date and buyer as they do not provide any extra information\n",
    "drop(df, ['order_no', 'order_date', 'buyer'])"
   ]
  },
  {
   "cell_type": "code",
   "execution_count": 39,
   "id": "20120e89",
   "metadata": {},
   "outputs": [
    {
     "data": {
      "text/html": [
       "<div>\n",
       "<style scoped>\n",
       "    .dataframe tbody tr th:only-of-type {\n",
       "        vertical-align: middle;\n",
       "    }\n",
       "\n",
       "    .dataframe tbody tr th {\n",
       "        vertical-align: top;\n",
       "    }\n",
       "\n",
       "    .dataframe thead th {\n",
       "        text-align: right;\n",
       "    }\n",
       "</style>\n",
       "<table border=\"1\" class=\"dataframe\">\n",
       "  <thead>\n",
       "    <tr style=\"text-align: right;\">\n",
       "      <th></th>\n",
       "      <th>ship_city</th>\n",
       "      <th>ship_state</th>\n",
       "      <th>sku</th>\n",
       "      <th>description</th>\n",
       "      <th>quantity</th>\n",
       "      <th>item_total</th>\n",
       "      <th>shipping_fee</th>\n",
       "      <th>cod</th>\n",
       "      <th>order_status</th>\n",
       "      <th>year</th>\n",
       "      <th>month</th>\n",
       "      <th>day</th>\n",
       "      <th>time</th>\n",
       "    </tr>\n",
       "  </thead>\n",
       "  <tbody>\n",
       "    <tr>\n",
       "      <th>0</th>\n",
       "      <td>CHANDIGARH</td>\n",
       "      <td>CHANDIGARH</td>\n",
       "      <td>2X-3C0F-KNJE</td>\n",
       "      <td>100% Leather Elephant Shaped Piggy Coin Bank |...</td>\n",
       "      <td>1</td>\n",
       "      <td>449.00</td>\n",
       "      <td>84.96</td>\n",
       "      <td>Online</td>\n",
       "      <td>Delivered to buyer</td>\n",
       "      <td>2021</td>\n",
       "      <td>7</td>\n",
       "      <td>6</td>\n",
       "      <td>22</td>\n",
       "    </tr>\n",
       "    <tr>\n",
       "      <th>1</th>\n",
       "      <td>PASIGHAT</td>\n",
       "      <td>ARUNACHAL PRADESH</td>\n",
       "      <td>DN-0WDX-VYOT</td>\n",
       "      <td>Women's Set of 5 Multicolor Pure Leather Singl...</td>\n",
       "      <td>1</td>\n",
       "      <td>449.00</td>\n",
       "      <td>60.18</td>\n",
       "      <td>Online</td>\n",
       "      <td>Delivered to buyer</td>\n",
       "      <td>2021</td>\n",
       "      <td>10</td>\n",
       "      <td>1</td>\n",
       "      <td>18</td>\n",
       "    </tr>\n",
       "    <tr>\n",
       "      <th>2</th>\n",
       "      <td>PASIGHAT</td>\n",
       "      <td>ARUNACHAL PRADESH</td>\n",
       "      <td>DN-0WDX-VYOT</td>\n",
       "      <td>Women's Set of 5 Multicolor Pure Leather Singl...</td>\n",
       "      <td>1</td>\n",
       "      <td>449.00</td>\n",
       "      <td>60.18</td>\n",
       "      <td>Online</td>\n",
       "      <td>Delivered to buyer</td>\n",
       "      <td>2021</td>\n",
       "      <td>11</td>\n",
       "      <td>6</td>\n",
       "      <td>22</td>\n",
       "    </tr>\n",
       "  </tbody>\n",
       "</table>\n",
       "</div>"
      ],
      "text/plain": [
       "    ship_city         ship_state             sku  \\\n",
       "0  CHANDIGARH         CHANDIGARH    2X-3C0F-KNJE   \n",
       "1    PASIGHAT  ARUNACHAL PRADESH    DN-0WDX-VYOT   \n",
       "2    PASIGHAT  ARUNACHAL PRADESH    DN-0WDX-VYOT   \n",
       "\n",
       "                                         description  quantity item_total  \\\n",
       "0  100% Leather Elephant Shaped Piggy Coin Bank |...         1     449.00   \n",
       "1  Women's Set of 5 Multicolor Pure Leather Singl...         1     449.00   \n",
       "2  Women's Set of 5 Multicolor Pure Leather Singl...         1     449.00   \n",
       "\n",
       "  shipping_fee     cod        order_status  year  month  day time  \n",
       "0        84.96  Online  Delivered to buyer  2021      7    6   22  \n",
       "1        60.18  Online  Delivered to buyer  2021     10    1   18  \n",
       "2        60.18  Online  Delivered to buyer  2021     11    6   22  "
      ]
     },
     "execution_count": 39,
     "metadata": {},
     "output_type": "execute_result"
    }
   ],
   "source": [
    "df.head(3)"
   ]
  },
  {
   "cell_type": "markdown",
   "id": "0909f618",
   "metadata": {},
   "source": [
    "### Categorical Features"
   ]
  },
  {
   "cell_type": "code",
   "execution_count": 40,
   "id": "f2051da4",
   "metadata": {},
   "outputs": [],
   "source": [
    "# changing values in binary categorical features to 0s and 1s\n",
    "df['cod'] = df['cod'].map({'Cash On Delivery': 1, 'Online': 0})\n",
    "df['order_status'] = df['order_status'].map({'Delivered to buyer': 1, 'Returned to seller': 0})"
   ]
  },
  {
   "cell_type": "code",
   "execution_count": 41,
   "id": "8ccf4d92",
   "metadata": {},
   "outputs": [
    {
     "name": "stdout",
     "output_type": "stream",
     "text": [
      "<class 'pandas.core.frame.DataFrame'>\n",
      "RangeIndex: 171 entries, 0 to 170\n",
      "Data columns (total 13 columns):\n",
      " #   Column        Non-Null Count  Dtype \n",
      "---  ------        --------------  ----- \n",
      " 0   ship_city     171 non-null    object\n",
      " 1   ship_state    171 non-null    object\n",
      " 2   sku           171 non-null    object\n",
      " 3   description   171 non-null    object\n",
      " 4   quantity      171 non-null    int64 \n",
      " 5   item_total    171 non-null    object\n",
      " 6   shipping_fee  171 non-null    object\n",
      " 7   cod           171 non-null    int64 \n",
      " 8   order_status  171 non-null    int64 \n",
      " 9   year          171 non-null    int64 \n",
      " 10  month         171 non-null    int64 \n",
      " 11  day           171 non-null    int64 \n",
      " 12  time          171 non-null    object\n",
      "dtypes: int64(6), object(7)\n",
      "memory usage: 17.5+ KB\n"
     ]
    }
   ],
   "source": [
    "df.info()"
   ]
  },
  {
   "cell_type": "code",
   "execution_count": 42,
   "id": "29448f2c",
   "metadata": {},
   "outputs": [],
   "source": [
    "# changing data types of numerical features\n",
    "df['quantity'] = df['quantity'].astype('int64')\n",
    "df['time'] = df['time'].astype('int64')\n",
    "df['shipping_fee'] = df['shipping_fee'].astype('float64')\n",
    "df['item_total'] = df['item_total'].astype('float64')"
   ]
  },
  {
   "cell_type": "code",
   "execution_count": 43,
   "id": "cb6a8eaa",
   "metadata": {},
   "outputs": [],
   "source": [
    "# label encode remaining categorical features\n",
    "cat_features = [i for i in df.columns if df[i].dtypes == 'object']\n",
    "for i in cat_features: \n",
    "    le = LabelEncoder()\n",
    "    df[i] = le.fit_transform(df[i])"
   ]
  },
  {
   "cell_type": "code",
   "execution_count": 44,
   "id": "66211fb5",
   "metadata": {},
   "outputs": [
    {
     "data": {
      "text/html": [
       "<div>\n",
       "<style scoped>\n",
       "    .dataframe tbody tr th:only-of-type {\n",
       "        vertical-align: middle;\n",
       "    }\n",
       "\n",
       "    .dataframe tbody tr th {\n",
       "        vertical-align: top;\n",
       "    }\n",
       "\n",
       "    .dataframe thead th {\n",
       "        text-align: right;\n",
       "    }\n",
       "</style>\n",
       "<table border=\"1\" class=\"dataframe\">\n",
       "  <thead>\n",
       "    <tr style=\"text-align: right;\">\n",
       "      <th></th>\n",
       "      <th>ship_city</th>\n",
       "      <th>ship_state</th>\n",
       "      <th>sku</th>\n",
       "      <th>description</th>\n",
       "      <th>quantity</th>\n",
       "      <th>item_total</th>\n",
       "      <th>shipping_fee</th>\n",
       "      <th>cod</th>\n",
       "      <th>order_status</th>\n",
       "      <th>year</th>\n",
       "      <th>month</th>\n",
       "      <th>day</th>\n",
       "      <th>time</th>\n",
       "    </tr>\n",
       "  </thead>\n",
       "  <tbody>\n",
       "    <tr>\n",
       "      <th>0</th>\n",
       "      <td>13</td>\n",
       "      <td>5</td>\n",
       "      <td>2</td>\n",
       "      <td>1</td>\n",
       "      <td>1</td>\n",
       "      <td>449.0</td>\n",
       "      <td>84.96</td>\n",
       "      <td>0</td>\n",
       "      <td>1</td>\n",
       "      <td>2021</td>\n",
       "      <td>7</td>\n",
       "      <td>6</td>\n",
       "      <td>22</td>\n",
       "    </tr>\n",
       "    <tr>\n",
       "      <th>1</th>\n",
       "      <td>56</td>\n",
       "      <td>1</td>\n",
       "      <td>22</td>\n",
       "      <td>59</td>\n",
       "      <td>1</td>\n",
       "      <td>449.0</td>\n",
       "      <td>60.18</td>\n",
       "      <td>0</td>\n",
       "      <td>1</td>\n",
       "      <td>2021</td>\n",
       "      <td>10</td>\n",
       "      <td>1</td>\n",
       "      <td>18</td>\n",
       "    </tr>\n",
       "    <tr>\n",
       "      <th>2</th>\n",
       "      <td>56</td>\n",
       "      <td>1</td>\n",
       "      <td>22</td>\n",
       "      <td>59</td>\n",
       "      <td>1</td>\n",
       "      <td>449.0</td>\n",
       "      <td>60.18</td>\n",
       "      <td>0</td>\n",
       "      <td>1</td>\n",
       "      <td>2021</td>\n",
       "      <td>11</td>\n",
       "      <td>6</td>\n",
       "      <td>22</td>\n",
       "    </tr>\n",
       "    <tr>\n",
       "      <th>3</th>\n",
       "      <td>18</td>\n",
       "      <td>24</td>\n",
       "      <td>17</td>\n",
       "      <td>30</td>\n",
       "      <td>1</td>\n",
       "      <td>449.0</td>\n",
       "      <td>84.96</td>\n",
       "      <td>1</td>\n",
       "      <td>1</td>\n",
       "      <td>2021</td>\n",
       "      <td>7</td>\n",
       "      <td>2</td>\n",
       "      <td>4</td>\n",
       "    </tr>\n",
       "    <tr>\n",
       "      <th>4</th>\n",
       "      <td>47</td>\n",
       "      <td>16</td>\n",
       "      <td>29</td>\n",
       "      <td>37</td>\n",
       "      <td>1</td>\n",
       "      <td>1099.0</td>\n",
       "      <td>84.96</td>\n",
       "      <td>0</td>\n",
       "      <td>1</td>\n",
       "      <td>2021</td>\n",
       "      <td>9</td>\n",
       "      <td>1</td>\n",
       "      <td>14</td>\n",
       "    </tr>\n",
       "  </tbody>\n",
       "</table>\n",
       "</div>"
      ],
      "text/plain": [
       "   ship_city  ship_state  sku  description  quantity  item_total  \\\n",
       "0         13           5    2            1         1       449.0   \n",
       "1         56           1   22           59         1       449.0   \n",
       "2         56           1   22           59         1       449.0   \n",
       "3         18          24   17           30         1       449.0   \n",
       "4         47          16   29           37         1      1099.0   \n",
       "\n",
       "   shipping_fee  cod  order_status  year  month  day  time  \n",
       "0         84.96    0             1  2021      7    6    22  \n",
       "1         60.18    0             1  2021     10    1    18  \n",
       "2         60.18    0             1  2021     11    6    22  \n",
       "3         84.96    1             1  2021      7    2     4  \n",
       "4         84.96    0             1  2021      9    1    14  "
      ]
     },
     "execution_count": 44,
     "metadata": {},
     "output_type": "execute_result"
    }
   ],
   "source": [
    "df.head()"
   ]
  },
  {
   "cell_type": "code",
   "execution_count": 45,
   "id": "a0bbcb6e",
   "metadata": {},
   "outputs": [
    {
     "data": {
      "text/html": [
       "<div>\n",
       "<style scoped>\n",
       "    .dataframe tbody tr th:only-of-type {\n",
       "        vertical-align: middle;\n",
       "    }\n",
       "\n",
       "    .dataframe tbody tr th {\n",
       "        vertical-align: top;\n",
       "    }\n",
       "\n",
       "    .dataframe thead th {\n",
       "        text-align: right;\n",
       "    }\n",
       "</style>\n",
       "<table border=\"1\" class=\"dataframe\">\n",
       "  <thead>\n",
       "    <tr style=\"text-align: right;\">\n",
       "      <th></th>\n",
       "      <th>quantity</th>\n",
       "      <th>item_total</th>\n",
       "      <th>shipping_fee</th>\n",
       "      <th>cod</th>\n",
       "      <th>order_status</th>\n",
       "      <th>year</th>\n",
       "      <th>month</th>\n",
       "      <th>day</th>\n",
       "    </tr>\n",
       "  </thead>\n",
       "  <tbody>\n",
       "    <tr>\n",
       "      <th>0</th>\n",
       "      <td>1</td>\n",
       "      <td>449.0</td>\n",
       "      <td>84.96</td>\n",
       "      <td>0</td>\n",
       "      <td>1</td>\n",
       "      <td>2021</td>\n",
       "      <td>7</td>\n",
       "      <td>6</td>\n",
       "    </tr>\n",
       "    <tr>\n",
       "      <th>1</th>\n",
       "      <td>1</td>\n",
       "      <td>449.0</td>\n",
       "      <td>60.18</td>\n",
       "      <td>0</td>\n",
       "      <td>1</td>\n",
       "      <td>2021</td>\n",
       "      <td>10</td>\n",
       "      <td>1</td>\n",
       "    </tr>\n",
       "  </tbody>\n",
       "</table>\n",
       "</div>"
      ],
      "text/plain": [
       "   quantity  item_total  shipping_fee  cod  order_status  year  month  day\n",
       "0         1       449.0         84.96    0             1  2021      7    6\n",
       "1         1       449.0         60.18    0             1  2021     10    1"
      ]
     },
     "execution_count": 45,
     "metadata": {},
     "output_type": "execute_result"
    }
   ],
   "source": [
    "drop(df, ['sku', 'ship_city', 'ship_state', 'description', 'time'])\n",
    "df.head(2)"
   ]
  },
  {
   "cell_type": "markdown",
   "id": "0bc87df7",
   "metadata": {},
   "source": [
    "### Train Test Split"
   ]
  },
  {
   "cell_type": "code",
   "execution_count": 46,
   "id": "e5d0c38b",
   "metadata": {},
   "outputs": [],
   "source": [
    "X = df.drop('order_status', axis=1)\n",
    "y = df['order_status']\n",
    "X_train, X_test, y_train, y_test = train_test_split(X, y, test_size=0.3, random_state=42)"
   ]
  },
  {
   "cell_type": "code",
   "execution_count": 47,
   "id": "cf0128ec",
   "metadata": {},
   "outputs": [],
   "source": [
    "from imblearn.over_sampling import SMOTE, ADASYN\n",
    "X = df.drop('order_status', axis=1)\n",
    "y = df['order_status']\n",
    "\n",
    "ad = ADASYN(sampling_strategy = 'minority', n_neighbors = 5, random_state = 140)\n",
    "x_train_miss, y_train_miss = ad.fit_resample(X, y.ravel())\n",
    "\n",
    "x_train, x_test, y_train, y_test = train_test_split(x_train_miss, y_train_miss, test_size=0.3, random_state=42)"
   ]
  },
  {
   "cell_type": "markdown",
   "id": "2b25fce3",
   "metadata": {},
   "source": [
    "### Modeling"
   ]
  },
  {
   "cell_type": "code",
   "execution_count": 48,
   "id": "7570adc7",
   "metadata": {},
   "outputs": [],
   "source": [
    "from sklearn.linear_model import LogisticRegression\n",
    "from sklearn.metrics import confusion_matrix, accuracy_score, SCORERS, roc_curve, plot_confusion_matrix\n",
    "from xgboost import XGBClassifier\n",
    "from sklearn.model_selection import RandomizedSearchCV, GridSearchCV"
   ]
  },
  {
   "cell_type": "code",
   "execution_count": 49,
   "id": "a99552b0",
   "metadata": {},
   "outputs": [],
   "source": [
    "def model_result(model):\n",
    "    ''' To calculate the accuracy score and confusion matrix of the provided model'''\n",
    "    y_pred = model.predict(x_test)\n",
    "    score = accuracy_score(y_test, y_pred)\n",
    "    cm = confusion_matrix(y_test, y_pred)\n",
    "    return score, cm\n",
    "\n",
    "def plot_cm(score, cm, label):\n",
    "    ''' To plot the confusion matrix'''\n",
    "    plt.figure(figsize=(8,8))\n",
    "    sns.heatmap(cm, annot=True)\n",
    "    plt.title('{0} score: {1}'.format(label, round(score,4)), fontsize=20)\n",
    "    plt.xlabel('Predicted Values', fontsize=20)\n",
    "    plt.ylabel('Actual Values', fontsize=20)\n",
    "    plt.show()"
   ]
  },
  {
   "cell_type": "markdown",
   "id": "04a2af43",
   "metadata": {},
   "source": [
    "### XGB Classifier"
   ]
  },
  {
   "cell_type": "code",
   "execution_count": 50,
   "id": "a5293439",
   "metadata": {},
   "outputs": [],
   "source": [
    "# # tuning\n",
    "# params = { 'max_depth': range(6,15,1),\n",
    "#            'learning_rate': np.arange(0.01,0.1,0.1),\n",
    "#            'n_estimators': np.arange(100,800,50),\n",
    "#            'colsample_bytree': np.arange(0.3, 0.7,0.1)}\n",
    "\n",
    "# xgbc = XGBClassifier(seed = 20)\n",
    "# clf = RandomizedSearchCV(estimator=xgbc,\n",
    "#                    cv=3,\n",
    "#                    param_distributions=params,\n",
    "#                    scoring='accuracy', \n",
    "#                    verbose=1,n_jobs=-1)\n",
    "# clf.fit(x_train,y_train)\n",
    "# print(\"Best parameters:\", clf.best_params_)\n",
    "# print(\"Lowest mean squared wrr: \", (clf.best_score_))"
   ]
  },
  {
   "cell_type": "code",
   "execution_count": 51,
   "id": "2e585513",
   "metadata": {},
   "outputs": [
    {
     "name": "stdout",
     "output_type": "stream",
     "text": [
      "[17:33:57] WARNING: C:/Users/Administrator/workspace/xgboost-win64_release_1.5.1/src/learner.cc:1115: Starting in XGBoost 1.3.0, the default evaluation metric used with the objective 'binary:logistic' was changed from 'error' to 'logloss'. Explicitly set eval_metric if you'd like to restore the old behavior.\n"
     ]
    }
   ],
   "source": [
    "xgb = XGBClassifier(n_estimators= 100, max_depth= 13, learning_rate= 0.01, colsample_bytree= 0.4).fit(x_train, y_train)"
   ]
  },
  {
   "cell_type": "code",
   "execution_count": 52,
   "id": "f35c6327",
   "metadata": {},
   "outputs": [
    {
     "data": {
      "image/png": "[encoded data removed]",
      "text/plain": [
       "<Figure size 576x576 with 2 Axes>"
      ]
     },
     "metadata": {
      "needs_background": "light"
     },
     "output_type": "display_data"
    }
   ],
   "source": [
    "xgb_score, xgb_cm = model_result(xgb)\n",
    "plt.figure(figsize=(8,8))\n",
    "sns.heatmap(xgb_cm, annot=True)\n",
    "plt.title('XGBoost score: {}'.format(round(xgb_score,4)), fontsize=20)\n",
    "plt.xlabel('Predicted Values', fontsize=20)\n",
    "plt.ylabel('Actual Values', fontsize=20)\n",
    "plt.show()"
   ]
  },
  {
   "cell_type": "markdown",
   "id": "2f683c11",
   "metadata": {},
   "source": [
    "## Save the model"
   ]
  },
  {
   "cell_type": "code",
   "execution_count": 53,
   "id": "4bd800f8",
   "metadata": {},
   "outputs": [
    {
     "data": {
      "text/plain": [
       "['model.pkl']"
      ]
     },
     "execution_count": 53,
     "metadata": {},
     "output_type": "execute_result"
    }
   ],
   "source": [
    "import joblib\n",
    "joblib.dump(xgb, 'model.pkl')"
   ]
  },
  {
   "cell_type": "markdown",
   "id": "b55b2db6",
   "metadata": {},
   "source": [
    "## <u>Conclusions</u>\n",
    "\n",
    "### Logistic Regression Model\n",
    "Logistic Regression did not perform well in comparison to XGBoost model. We see a couple of false positives and false negatives.\n",
    "\n",
    "### XGBoost Classifier Model\n",
    "Even though the accuracy of our model is high, we infer that our model did not perform well because it could not classify any of the return orders correctly. The True positive is very high, it correctly classified all the successful orders which is quite good, but we need to work on reducing the false positives without compromising on the true positives."
   ]
  }
 ],
 "metadata": {
  "kernelspec": {
   "display_name": "Python 3",
   "language": "python",
   "name": "python3"
  },
  "language_info": {
   "codemirror_mode": {
    "name": "ipython",
    "version": 3
   },
   "file_extension": ".py",
   "mimetype": "text/x-python",
   "name": "python",
   "nbconvert_exporter": "python",
   "pygments_lexer": "ipython3",
   "version": "3.10.3"
  }
 },
 "nbformat": 4,
 "nbformat_minor": 5
}
